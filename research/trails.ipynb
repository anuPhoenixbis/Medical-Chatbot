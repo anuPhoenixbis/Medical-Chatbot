{
 "cells": [
  {
   "cell_type": "code",
   "execution_count": null,
   "id": "f1789ae4",
   "metadata": {},
   "outputs": [
    {
     "name": "stdout",
     "output_type": "stream",
     "text": [
      "Collecting sentence-transformers\n",
      "  Downloading sentence_transformers-5.0.0-py3-none-any.whl.metadata (16 kB)\n",
      "Requirement already satisfied: transformers<5.0.0,>=4.41.0 in c:\\users\\anubh\\appdata\\local\\packages\\pythonsoftwarefoundation.python.3.11_qbz5n2kfra8p0\\localcache\\local-packages\\python311\\site-packages (from sentence-transformers) (4.53.1)\n",
      "Requirement already satisfied: tqdm in c:\\users\\anubh\\appdata\\local\\packages\\pythonsoftwarefoundation.python.3.11_qbz5n2kfra8p0\\localcache\\local-packages\\python311\\site-packages (from sentence-transformers) (4.67.1)\n",
      "Requirement already satisfied: torch>=1.11.0 in c:\\users\\anubh\\appdata\\local\\packages\\pythonsoftwarefoundation.python.3.11_qbz5n2kfra8p0\\localcache\\local-packages\\python311\\site-packages (from sentence-transformers) (2.7.1)\n",
      "Requirement already satisfied: scikit-learn in c:\\users\\anubh\\appdata\\local\\packages\\pythonsoftwarefoundation.python.3.11_qbz5n2kfra8p0\\localcache\\local-packages\\python311\\site-packages (from sentence-transformers) (1.6.1)\n",
      "Requirement already satisfied: scipy in c:\\users\\anubh\\appdata\\local\\packages\\pythonsoftwarefoundation.python.3.11_qbz5n2kfra8p0\\localcache\\local-packages\\python311\\site-packages (from sentence-transformers) (1.15.2)\n",
      "Requirement already satisfied: huggingface-hub>=0.20.0 in c:\\users\\anubh\\appdata\\local\\packages\\pythonsoftwarefoundation.python.3.11_qbz5n2kfra8p0\\localcache\\local-packages\\python311\\site-packages (from sentence-transformers) (0.33.2)\n",
      "Requirement already satisfied: Pillow in c:\\users\\anubh\\appdata\\local\\packages\\pythonsoftwarefoundation.python.3.11_qbz5n2kfra8p0\\localcache\\local-packages\\python311\\site-packages (from sentence-transformers) (11.1.0)\n",
      "Requirement already satisfied: typing_extensions>=4.5.0 in c:\\users\\anubh\\appdata\\local\\packages\\pythonsoftwarefoundation.python.3.11_qbz5n2kfra8p0\\localcache\\local-packages\\python311\\site-packages (from sentence-transformers) (4.12.2)\n",
      "Requirement already satisfied: filelock in c:\\users\\anubh\\appdata\\local\\packages\\pythonsoftwarefoundation.python.3.11_qbz5n2kfra8p0\\localcache\\local-packages\\python311\\site-packages (from huggingface-hub>=0.20.0->sentence-transformers) (3.18.0)\n",
      "Requirement already satisfied: fsspec>=2023.5.0 in c:\\users\\anubh\\appdata\\local\\packages\\pythonsoftwarefoundation.python.3.11_qbz5n2kfra8p0\\localcache\\local-packages\\python311\\site-packages (from huggingface-hub>=0.20.0->sentence-transformers) (2025.5.1)\n",
      "Requirement already satisfied: packaging>=20.9 in c:\\users\\anubh\\appdata\\local\\packages\\pythonsoftwarefoundation.python.3.11_qbz5n2kfra8p0\\localcache\\local-packages\\python311\\site-packages (from huggingface-hub>=0.20.0->sentence-transformers) (24.2)\n",
      "Requirement already satisfied: pyyaml>=5.1 in c:\\users\\anubh\\appdata\\local\\packages\\pythonsoftwarefoundation.python.3.11_qbz5n2kfra8p0\\localcache\\local-packages\\python311\\site-packages (from huggingface-hub>=0.20.0->sentence-transformers) (6.0.2)\n",
      "Requirement already satisfied: requests in c:\\users\\anubh\\appdata\\local\\packages\\pythonsoftwarefoundation.python.3.11_qbz5n2kfra8p0\\localcache\\local-packages\\python311\\site-packages (from huggingface-hub>=0.20.0->sentence-transformers) (2.32.3)\n",
      "Requirement already satisfied: sympy>=1.13.3 in c:\\users\\anubh\\appdata\\local\\packages\\pythonsoftwarefoundation.python.3.11_qbz5n2kfra8p0\\localcache\\local-packages\\python311\\site-packages (from torch>=1.11.0->sentence-transformers) (1.14.0)\n",
      "Requirement already satisfied: networkx in c:\\users\\anubh\\appdata\\local\\packages\\pythonsoftwarefoundation.python.3.11_qbz5n2kfra8p0\\localcache\\local-packages\\python311\\site-packages (from torch>=1.11.0->sentence-transformers) (3.5)\n",
      "Requirement already satisfied: jinja2 in c:\\users\\anubh\\appdata\\local\\packages\\pythonsoftwarefoundation.python.3.11_qbz5n2kfra8p0\\localcache\\local-packages\\python311\\site-packages (from torch>=1.11.0->sentence-transformers) (3.1.6)\n",
      "Requirement already satisfied: colorama in c:\\users\\anubh\\appdata\\local\\packages\\pythonsoftwarefoundation.python.3.11_qbz5n2kfra8p0\\localcache\\local-packages\\python311\\site-packages (from tqdm->sentence-transformers) (0.4.6)\n",
      "Requirement already satisfied: numpy>=1.17 in c:\\users\\anubh\\appdata\\local\\packages\\pythonsoftwarefoundation.python.3.11_qbz5n2kfra8p0\\localcache\\local-packages\\python311\\site-packages (from transformers<5.0.0,>=4.41.0->sentence-transformers) (1.23.4)\n",
      "Requirement already satisfied: regex!=2019.12.17 in c:\\users\\anubh\\appdata\\local\\packages\\pythonsoftwarefoundation.python.3.11_qbz5n2kfra8p0\\localcache\\local-packages\\python311\\site-packages (from transformers<5.0.0,>=4.41.0->sentence-transformers) (2024.11.6)\n",
      "Requirement already satisfied: tokenizers<0.22,>=0.21 in c:\\users\\anubh\\appdata\\local\\packages\\pythonsoftwarefoundation.python.3.11_qbz5n2kfra8p0\\localcache\\local-packages\\python311\\site-packages (from transformers<5.0.0,>=4.41.0->sentence-transformers) (0.21.2)\n",
      "Requirement already satisfied: safetensors>=0.4.3 in c:\\users\\anubh\\appdata\\local\\packages\\pythonsoftwarefoundation.python.3.11_qbz5n2kfra8p0\\localcache\\local-packages\\python311\\site-packages (from transformers<5.0.0,>=4.41.0->sentence-transformers) (0.5.3)\n",
      "Requirement already satisfied: joblib>=1.2.0 in c:\\users\\anubh\\appdata\\local\\packages\\pythonsoftwarefoundation.python.3.11_qbz5n2kfra8p0\\localcache\\local-packages\\python311\\site-packages (from scikit-learn->sentence-transformers) (1.4.2)\n",
      "Requirement already satisfied: threadpoolctl>=3.1.0 in c:\\users\\anubh\\appdata\\local\\packages\\pythonsoftwarefoundation.python.3.11_qbz5n2kfra8p0\\localcache\\local-packages\\python311\\site-packages (from scikit-learn->sentence-transformers) (3.6.0)\n",
      "Collecting numpy>=1.17 (from transformers<5.0.0,>=4.41.0->sentence-transformers)\n",
      "  Using cached numpy-2.3.1-cp311-cp311-win_amd64.whl.metadata (60 kB)\n",
      "Requirement already satisfied: mpmath<1.4,>=1.1.0 in c:\\users\\anubh\\appdata\\local\\packages\\pythonsoftwarefoundation.python.3.11_qbz5n2kfra8p0\\localcache\\local-packages\\python311\\site-packages (from sympy>=1.13.3->torch>=1.11.0->sentence-transformers) (1.3.0)\n",
      "Requirement already satisfied: MarkupSafe>=2.0 in c:\\users\\anubh\\appdata\\local\\packages\\pythonsoftwarefoundation.python.3.11_qbz5n2kfra8p0\\localcache\\local-packages\\python311\\site-packages (from jinja2->torch>=1.11.0->sentence-transformers) (3.0.2)\n",
      "Requirement already satisfied: charset-normalizer<4,>=2 in c:\\users\\anubh\\appdata\\local\\packages\\pythonsoftwarefoundation.python.3.11_qbz5n2kfra8p0\\localcache\\local-packages\\python311\\site-packages (from requests->huggingface-hub>=0.20.0->sentence-transformers) (3.4.1)\n",
      "Requirement already satisfied: idna<4,>=2.5 in c:\\users\\anubh\\appdata\\local\\packages\\pythonsoftwarefoundation.python.3.11_qbz5n2kfra8p0\\localcache\\local-packages\\python311\\site-packages (from requests->huggingface-hub>=0.20.0->sentence-transformers) (3.10)\n",
      "Requirement already satisfied: urllib3<3,>=1.21.1 in c:\\users\\anubh\\appdata\\local\\packages\\pythonsoftwarefoundation.python.3.11_qbz5n2kfra8p0\\localcache\\local-packages\\python311\\site-packages (from requests->huggingface-hub>=0.20.0->sentence-transformers) (2.3.0)\n",
      "Requirement already satisfied: certifi>=2017.4.17 in c:\\users\\anubh\\appdata\\local\\packages\\pythonsoftwarefoundation.python.3.11_qbz5n2kfra8p0\\localcache\\local-packages\\python311\\site-packages (from requests->huggingface-hub>=0.20.0->sentence-transformers) (2025.1.31)\n",
      "Downloading sentence_transformers-5.0.0-py3-none-any.whl (470 kB)\n",
      "Using cached numpy-2.3.1-cp311-cp311-win_amd64.whl (13.0 MB)\n",
      "Installing collected packages: numpy, sentence-transformers\n",
      "  Attempting uninstall: numpy\n",
      "    Found existing installation: numpy 1.23.4\n",
      "    Uninstalling numpy-1.23.4:\n",
      "      Successfully uninstalled numpy-1.23.4\n",
      "Successfully installed numpy-2.3.1 sentence-transformers-5.0.0\n",
      "Note: you may need to restart the kernel to use updated packages.\n"
     ]
    },
    {
     "name": "stderr",
     "output_type": "stream",
     "text": [
      "  WARNING: Failed to remove contents in a temporary directory 'C:\\Users\\anubh\\AppData\\Local\\Packages\\PythonSoftwareFoundation.Python.3.11_qbz5n2kfra8p0\\LocalCache\\local-packages\\Python311\\site-packages\\~-mpy'.\n",
      "  You can safely remove it manually.\n",
      "\n",
      "[notice] A new release of pip is available: 25.0.1 -> 25.1.1\n",
      "[notice] To update, run: C:\\Users\\anubh\\AppData\\Local\\Microsoft\\WindowsApps\\PythonSoftwareFoundation.Python.3.11_qbz5n2kfra8p0\\python.exe -m pip install --upgrade pip\n"
     ]
    }
   ],
   "source": [
    "%pip install sentence-transformers -q"
   ]
  },
  {
   "cell_type": "code",
   "execution_count": 1,
   "id": "7058a58e",
   "metadata": {},
   "outputs": [
    {
     "name": "stderr",
     "output_type": "stream",
     "text": [
      "C:\\Users\\anubh\\AppData\\Local\\Packages\\PythonSoftwareFoundation.Python.3.11_qbz5n2kfra8p0\\LocalCache\\local-packages\\Python311\\site-packages\\tqdm\\auto.py:21: TqdmWarning: IProgress not found. Please update jupyter and ipywidgets. See https://ipywidgets.readthedocs.io/en/stable/user_install.html\n",
      "  from .autonotebook import tqdm as notebook_tqdm\n"
     ]
    }
   ],
   "source": [
    "from langchain.chains import LLMChain, RetrievalQA\n",
    "from langchain.prompts import PromptTemplate\n",
    "from langchain_community.embeddings import HuggingFaceEmbeddings\n",
    "from langchain_community.vectorstores import Chroma\n",
    "import chromadb\n",
    "from sentence_transformers import SentenceTransformer\n",
    "from langchain_community.document_loaders import PyPDFLoader, DirectoryLoader\n",
    "from langchain.text_splitter import RecursiveCharacterTextSplitter\n",
    "from langchain_community.llms import CTransformers"
   ]
  },
  {
   "cell_type": "code",
   "execution_count": 2,
   "id": "bdea0cd0",
   "metadata": {},
   "outputs": [
    {
     "name": "stderr",
     "output_type": "stream",
     "text": [
      "C:\\Users\\anubh\\AppData\\Local\\Temp\\ipykernel_5992\\425466352.py:3: LangChainDeprecationWarning: The class `Ollama` was deprecated in LangChain 0.3.1 and will be removed in 1.0.0. An updated version of the class exists in the :class:`~langchain-ollama package and should be used instead. To use it run `pip install -U :class:`~langchain-ollama` and import as `from :class:`~langchain_ollama import OllamaLLM``.\n",
      "  llm = Ollama(model=\"llama2\")  # or whatever name you used in `ollama run`\n"
     ]
    }
   ],
   "source": [
    "from langchain_community.llms import Ollama\n",
    "\n",
    "llm = Ollama(model=\"llama2\")  # or whatever name you used in `ollama run`"
   ]
  },
  {
   "cell_type": "code",
   "execution_count": 3,
   "id": "2d2fb611",
   "metadata": {},
   "outputs": [
    {
     "name": "stdout",
     "output_type": "stream",
     "text": [
      "\n",
      "The capital of France is Paris.\n"
     ]
    }
   ],
   "source": [
    "response = llm.invoke(\"What is the capital of France?\")\n",
    "print(response)\n"
   ]
  },
  {
   "cell_type": "code",
   "execution_count": 4,
   "id": "538574d5",
   "metadata": {},
   "outputs": [],
   "source": [
    "#extract the text from a PDF file\n",
    "def load_pdf(data):\n",
    "    loader = DirectoryLoader(\n",
    "        data,\n",
    "        glob=\"**/*.pdf\",\n",
    "        loader_cls=PyPDFLoader,\n",
    "    )\n",
    "    documents = loader.load()\n",
    "    return documents"
   ]
  },
  {
   "cell_type": "code",
   "execution_count": 5,
   "id": "17c7299c",
   "metadata": {},
   "outputs": [],
   "source": [
    "extracted_data = load_pdf(data=\"data\")"
   ]
  },
  {
   "cell_type": "code",
   "execution_count": 6,
   "id": "21b983b1",
   "metadata": {},
   "outputs": [],
   "source": [
    "#text Chunking\n",
    "def text_chunking(documents):\n",
    "    text_splitter = RecursiveCharacterTextSplitter(\n",
    "        chunk_size=500,\n",
    "        chunk_overlap=20,\n",
    "    )\n",
    "    text_chunks = text_splitter.split_documents(documents)\n",
    "    return text_chunks"
   ]
  },
  {
   "cell_type": "code",
   "execution_count": 7,
   "id": "e7281c3d",
   "metadata": {},
   "outputs": [
    {
     "data": {
      "text/plain": [
       "5859"
      ]
     },
     "execution_count": 7,
     "metadata": {},
     "output_type": "execute_result"
    }
   ],
   "source": [
    "text_chunks = text_chunking(documents=extracted_data)\n",
    "len(text_chunks)"
   ]
  },
  {
   "cell_type": "code",
   "execution_count": 8,
   "id": "00431286",
   "metadata": {},
   "outputs": [],
   "source": [
    "#download the embedding model from huggingface\n",
    "\n",
    "def download_huggingfaceEmbeddings():\n",
    "    embeddings = HuggingFaceEmbeddings(model_name=\"sentence-transformers/all-MiniLM-L6-v2\")\n",
    "    return embeddings\n"
   ]
  },
  {
   "cell_type": "code",
   "execution_count": 9,
   "id": "e406af2d",
   "metadata": {},
   "outputs": [
    {
     "name": "stderr",
     "output_type": "stream",
     "text": [
      "C:\\Users\\anubh\\AppData\\Local\\Temp\\ipykernel_5992\\3316817663.py:4: LangChainDeprecationWarning: The class `HuggingFaceEmbeddings` was deprecated in LangChain 0.2.2 and will be removed in 1.0. An updated version of the class exists in the :class:`~langchain-huggingface package and should be used instead. To use it run `pip install -U :class:`~langchain-huggingface` and import as `from :class:`~langchain_huggingface import HuggingFaceEmbeddings``.\n",
      "  embeddings = HuggingFaceEmbeddings(model_name=\"sentence-transformers/all-MiniLM-L6-v2\")\n",
      "Xet Storage is enabled for this repo, but the 'hf_xet' package is not installed. Falling back to regular HTTP download. For better performance, install the package with: `pip install huggingface_hub[hf_xet]` or `pip install hf_xet`\n"
     ]
    }
   ],
   "source": [
    "embeddings = download_huggingfaceEmbeddings()"
   ]
  },
  {
   "cell_type": "code",
   "execution_count": 11,
   "id": "bd0af6a6",
   "metadata": {},
   "outputs": [
    {
     "name": "stdout",
     "output_type": "stream",
     "text": [
      "[0.08204811811447144, 0.03605549782514572, -0.0038928815629333258, -0.004881042055785656, 0.025651127099990845, -0.057143475860357285, 0.012191563844680786, 0.00467892037704587, 0.0349498875439167, -0.02242197096347809, -0.00800524465739727, -0.10935357213020325, 0.022724736481904984, -0.029320916160941124, -0.04352208599448204, -0.1202412024140358, -0.0008486119331791997, -0.018150130286812782, 0.056129518896341324, 0.0030852793715894222, 0.002336376579478383, -0.016839278861880302, 0.06362469494342804, -0.023660195991396904, 0.031493544578552246, -0.034797921776771545, -0.020548837259411812, -0.002790994942188263, -0.01103801280260086, -0.036126717925071716, 0.05414106324315071, -0.03661714866757393, -0.025008678436279297, -0.038170378655195236, -0.0496036522090435, -0.015148064121603966, 0.02131502889096737, -0.012740440666675568, 0.07670093327760696, 0.04435573145747185, -0.010834850370883942, -0.029760019853711128, -0.01697046123445034, -0.024691861122846603, 0.008087079972028732, 0.04358771815896034, 0.00717751681804657, 0.07550127804279327, 0.03280662000179291, -0.062046390026807785, 0.0667789950966835, 0.02709137834608555, -0.04568945989012718, -0.03144116327166557, -0.031155232340097427, 0.09153687208890915, -0.0017882062820717692, -0.011282630264759064, 0.036499325186014175, 0.05692712590098381, 0.0022999835200607777, -0.037750571966171265, -0.015484672971069813, 0.05239146202802658, 0.060364436358213425, -0.01664833165705204, 0.008809899911284447, -0.006622270215302706, -0.10629710555076599, 0.0017159075941890478, -0.048305824398994446, -0.02976871468126774, 0.004325583577156067, -0.08567409217357635, 0.06620792299509048, -0.05518355220556259, -0.11332660168409348, 0.050840191543102264, -0.009317236952483654, 0.006006722804158926, 0.021012727171182632, -0.022515442222356796, 0.00047273028758354485, 0.05638974532485008, 0.04544346034526825, -0.005277502816170454, 0.09359361231327057, 0.027460262179374695, 0.029441962018609047, -0.04569666460156441, -0.048944342881441116, 0.00136152608320117, -0.012853385880589485, 0.07980713993310928, -0.11903546005487442, 0.06876877695322037, -0.02271832525730133, 0.04485702142119408, -0.08129200339317322, 0.04405774548649788, 0.002956375479698181, 0.017621032893657684, 0.08311298489570618, -0.018054941669106483, -0.047923579812049866, 0.05866708233952522, 0.0062464564107358456, -0.014656818471848965, -0.007337198127061129, -0.07807916402816772, -0.10076913237571716, -0.03352676331996918, -0.0009018825949169695, -0.051131200045347214, 0.02722172439098358, 0.07086150348186493, 0.047401729971170425, -0.10456676036119461, 0.004401117563247681, -0.028793739154934883, -0.018355797976255417, -0.05058590695261955, -0.03154188022017479, -0.009517696686089039, -0.060644716024398804, 0.021163949742913246, -0.046602167189121246, -7.75511606398674e-33, -0.031296227127313614, 0.05634509027004242, 0.07738032191991806, 0.06391442567110062, -0.046647172421216965, -0.0075704543851315975, -0.055326420813798904, 0.040277548134326935, -0.03152395039796829, -0.007102977018803358, 0.03959237411618233, -0.1317119598388672, -0.06614521145820618, 0.021774932742118835, 0.09698943048715591, 0.011799281463027, 0.08900416642427444, 0.03468591347336769, -0.04387174919247627, -0.00016684287402313203, 0.014680834487080574, -0.0027093105018138885, -0.0033176452852785587, 0.017399994656443596, 0.06010516360402107, 0.03949517384171486, -0.00173275510314852, 0.07728353887796402, 0.014559607021510601, -0.002193332416936755, -0.0018453638767823577, 0.015014738775789738, 0.02167288400232792, 0.007331324741244316, 0.017999527975916862, 0.049744121730327606, 0.012588142417371273, -0.0026322028134018183, 0.043461717665195465, 0.06297491490840912, 0.06660725921392441, -0.03639742732048035, -0.03872959315776825, 0.04401261731982231, 0.005643442273139954, 0.005692613776773214, -0.034878432750701904, -0.07138054072856903, 0.10089900344610214, -0.024756288155913353, 0.014684411697089672, -0.025919588282704353, -0.07273468375205994, -0.017434287816286087, 0.02601887658238411, 0.11413371562957764, -0.07092972844839096, 0.018040699884295464, -0.0033645869698375463, 0.008468201383948326, -0.0031982341315597296, 0.005925290752202272, -0.02299346774816513, 0.07761332392692566, 0.03472593426704407, 0.08739190548658371, 0.046261001378297806, 0.01875869557261467, 0.011047509498894215, -0.045824144035577774, -0.046474356204271317, 0.026539435610175133, 0.07402203977108002, 0.06560058891773224, 0.06272175908088684, 0.07237670570611954, -0.008960566483438015, -0.03532489389181137, -0.0053845541551709175, -0.003218885278329253, -0.03802560269832611, -0.041364725679159164, -0.09670209139585495, 0.04421927407383919, -0.03350631147623062, -0.07136601209640503, -0.01164280902594328, -0.007111185230314732, 0.00064539146842435, -0.08838033676147461, -0.11334282904863358, -0.12120428681373596, -0.0013211043551564217, -0.04424312710762024, -0.08665942400693893, 3.997686207807715e-33, 0.025276118889451027, -0.002635043812915683, -0.0811300128698349, 0.025461921468377113, 0.001329220598563552, 0.01603802852332592, 0.09549155086278915, 0.033216994255781174, -0.012048942036926746, 0.016985617578029633, -0.08307891339063644, -0.12452162057161331, 0.043909572064876556, 0.01215104665607214, 0.06574594229459763, 0.10052961856126785, 0.07295703887939453, -0.02692018821835518, -0.03218476474285126, -0.05346691980957985, -0.12637238204479218, 0.005398092325776815, -0.03539087995886803, -0.00427997624501586, -0.025039512664079666, 0.04162561893463135, -0.09993340075016022, -0.04765279218554497, -0.023976027965545654, 0.002639772603288293, -0.05519099161028862, 0.013548429124057293, 0.04904063418507576, 0.08499687910079956, -0.042024631053209305, 0.07673397660255432, 0.03321313485503197, 0.0012652432778850198, 0.039995040744543076, 0.0645516887307167, -0.043372634798288345, -0.049650486558675766, 0.057958103716373444, 0.112678661942482, 0.0706990584731102, 0.008226478472352028, 0.04381537437438965, -0.022527912631630898, -0.0072487336583435535, 0.04985778033733368, 0.03860492631793022, 0.067911796271801, -0.04107002168893814, 0.005732227116823196, 0.01790805533528328, 0.04930580407381058, -0.05145528167486191, 0.051030803471803665, -0.09380978345870972, -0.06816751509904861, 0.0652628019452095, 0.07545740157365799, -0.016841890290379524, 0.06612507998943329, -0.0028970998246222734, -0.020738158375024796, -0.1270085722208023, 0.061604779213666916, -0.009813092648983002, -0.01470612920820713, 0.13544605672359467, 0.03413688391447067, -0.06481856852769852, 0.051017019897699356, -0.06637557595968246, 0.029188353568315506, 0.07939165085554123, 0.01444025058299303, -0.02731001190841198, 0.00526704965159297, -0.06761958450078964, -0.020494427531957626, -0.027144724503159523, -0.026149770244956017, -0.0705467015504837, 0.034717902541160583, 0.0076125855557620525, -0.10216667503118515, 0.05842778831720352, -0.07478600740432739, -0.021967995911836624, -0.006808679085224867, -0.05130326747894287, -0.036969855427742004, 0.025690123438835144, -1.7501509574913143e-08, 0.06809660792350769, 0.04500092938542366, -0.044086355715990067, 0.012878739275038242, -0.05775941163301468, -0.09547637403011322, 0.06219947710633278, -0.00427265465259552, -0.008670172654092312, 0.0002550050849094987, -0.07361152768135071, 0.056062135845422745, -0.06970255076885223, -0.05111630633473396, -0.04102279245853424, -0.004761025309562683, -0.032463207840919495, 0.043047379702329636, 0.008683166466653347, 0.022707801312208176, -0.004905311856418848, 0.023358013480901718, -0.045639391988515854, -0.05810334533452988, 0.012541440315544605, -0.09903228282928467, 0.04062921926379204, 0.04566892609000206, 0.0027159308083355427, -0.005313030444085598, 0.06640289723873138, -0.02728755958378315, -0.05007481947541237, -0.09029495716094971, -0.03612228110432625, 0.012680108658969402, -0.005830490496009588, -0.005093273241072893, 0.009507544338703156, -0.02905244566500187, 0.09497947245836258, 0.06199074536561966, 0.012536670081317425, -0.011961029842495918, 0.024525700137019157, 0.04538298398256302, 0.053821101784706116, -0.03517719358205795, 0.11464711278676987, -0.08902023732662201, -0.11148513108491898, 0.09941159188747406, 0.003938919864594936, 0.00447841826826334, 0.003446639748290181, 0.0708964467048645, -0.051293618977069855, -0.012674233876168728, 0.021874722093343735, -0.020011993125081062, -0.014911329373717308, 0.04920438304543495, 0.08929190039634705, -0.011127784848213196]\n"
     ]
    }
   ],
   "source": [
    "query_res = embeddings.embed_query(\"What is the capital of France?\")\n",
    "print(query_res)"
   ]
  },
  {
   "cell_type": "code",
   "execution_count": 12,
   "id": "f482b71e",
   "metadata": {},
   "outputs": [
    {
     "name": "stderr",
     "output_type": "stream",
     "text": [
      "C:\\Users\\anubh\\AppData\\Local\\Temp\\ipykernel_5992\\3433834329.py:11: LangChainDeprecationWarning: Since Chroma 0.4.x the manual persistence method is no longer supported as docs are automatically persisted.\n",
      "  vectorstore.persist()\n"
     ]
    }
   ],
   "source": [
    "# passing text to chromadb\n",
    "from langchain_community.vectorstores import Chroma\n",
    "\n",
    "\n",
    "vectorstore = Chroma.from_documents(\n",
    "    documents=text_chunks,\n",
    "    embedding=embeddings,\n",
    "    persist_directory=\"./chroma_db\"\n",
    ")\n",
    "\n",
    "vectorstore.persist()"
   ]
  },
  {
   "cell_type": "code",
   "execution_count": 19,
   "id": "3d642d84",
   "metadata": {},
   "outputs": [
    {
     "data": {
      "text/plain": [
       "[Document(metadata={'producer': 'PDFlib+PDI 5.0.0 (SunOS)', 'moddate': '2004-12-18T16:15:31-06:00', 'total_pages': 637, 'creator': 'PyPDF', 'page_label': '438', 'source': 'data\\\\Medical_book.pdf', 'page': 437, 'creationdate': '2004-12-18T17:00:02-05:00'}, page_content='• Type I diabetes mellitus. Characterized by fatigue and\\nan abnormally high level of glucose in the blood\\n(hyperglycemia).\\n• Amyotrophic lateral schlerosis. First signs are stum-\\nbling and difficulty climbing stairs. Later, muscle\\ncramps and twitching may be observed as well as\\nweakness in the hands making fastening buttons or\\nturning a key difficult. Speech may become slowed or\\nslurred. There may also be difficluty swallowing. As\\nrespiratory muscles atrophy, there is increased danger')]"
      ]
     },
     "execution_count": 19,
     "metadata": {},
     "output_type": "execute_result"
    }
   ],
   "source": [
    "#setting up retriever\n",
    "retriever = vectorstore.as_retriever(search_kwargs={\"k\": 1})\n",
    "\n",
    "def query_vectorstore(query):\n",
    "    response = retriever.invoke(query)\n",
    "    return response\n",
    "\n",
    "query = \"What are the symptoms of diabetes?\"\n",
    "response = query_vectorstore(query)\n",
    "response"
   ]
  },
  {
   "cell_type": "code",
   "execution_count": 20,
   "id": "d62d6e1c",
   "metadata": {},
   "outputs": [],
   "source": [
    "TEMPLATE=\"\"\"\n",
    "Act as a medical and pharmaceutical expert. You are given a question and a set of documents as context.\n",
    "Your task is to answer the question based on the context provided. If the context does not provide enough information, you should state that you do not have enough information to answer the question.\n",
    "Question: {question}\n",
    "Context: {context}\n",
    "Answer:\n",
    "\"\"\"\n",
    "\n",
    "prompt = PromptTemplate(\n",
    "    input_variables=[\"question\", \"context\"],\n",
    "    template=TEMPLATE)\n",
    "chain_type_kwargs={\"prompt\" : prompt}\n"
   ]
  },
  {
   "cell_type": "code",
   "execution_count": 25,
   "id": "dd9b6478",
   "metadata": {},
   "outputs": [],
   "source": [
    "from langchain_community.llms import Ollama\n",
    "\n",
    "llm = Ollama(\n",
    "    model=\"llama2\",\n",
    "    temperature=0.7,\n",
    "    top_p=0.9,\n",
    "    repeat_penalty=1.1,\n",
    "    num_predict=512  # Use this instead of max_tokens\n",
    ")"
   ]
  },
  {
   "cell_type": "code",
   "execution_count": 26,
   "id": "14af9a96",
   "metadata": {},
   "outputs": [],
   "source": [
    "qa = RetrievalQA.from_chain_type(\n",
    "    llm=llm,\n",
    "    chain_type=\"stuff\",\n",
    "    retriever=retriever,\n",
    "    return_source_documents=True,\n",
    "    chain_type_kwargs=chain_type_kwargs)"
   ]
  },
  {
   "cell_type": "code",
   "execution_count": 28,
   "id": "582e48e3",
   "metadata": {},
   "outputs": [
    {
     "name": "stdout",
     "output_type": "stream",
     "text": [
      "Response: Based on the context provided, there are several diseases that can be caused by obesity. These include:\n",
      "\n",
      "1. Type 2 diabetes: Obesity is a major risk factor for developing type 2 diabetes, as excess body fat can increase resistance to insulin and lead to high blood sugar levels. (Source: Berg, F. M. \"Eating Disorders Affect Both the Mind and Body.\" Healthy Weight Journal 9, no. 2 (1995): 27-31.)\n",
      "2. Cardiovascular disease: Obesity can increase the risk of heart disease by raising blood pressure, cholesterol levels, and inflammation, which can lead to heart attacks, strokes, and other cardiovascular problems. (Source: Kubersky, R. Everything You Need to Know about Eating Disorders. New York: The Rosen Publishing Group, Inc., 1992.)\n",
      "3. Sleep apnea: Obesity can cause sleep apnea, a condition in which a person's breathing is interrupted during sleep due to the collapse of the soft tissues in the throat. (Source: Kubersky, R. Everything You Need to Know about Eating Disorders. New York: The Rosen Publishing Group, Inc., 1992.)\n",
      "4. Joint problems: Excess weight can put strain on the joints, leading to pain and mobility issues in the hips, knees, and ankles. (Source: Berg, F. M. \"Eating Disorders Affect Both the Mind and Body.\" Healthy Weight Journal 9, no. 2 (1995): 27-31.)\n",
      "5. Respiratory problems: Obesity can increase the risk of respiratory problems such as asthma and chronic obstructive pulmonary disease (COPD). (Source: Kubersky, R. Everything You Need to Know about Eating Disorders. New York: The Rosen Publishing Group, Inc., 1992.)\n",
      "6. Some types of cancer: Being overweight or obese can increase the risk of certain types of cancer, including breast, colon, and kidney cancer. (Source: Berg, F. M. \"Eating Disorders Affect Both the Mind and Body.\" Healthy Weight\n",
      "Source Documents: [Document(metadata={'source': 'data\\\\Medical_book.pdf', 'page_label': '627', 'producer': 'PDFlib+PDI 5.0.0 (SunOS)', 'creationdate': '2004-12-18T17:00:02-05:00', 'creator': 'PyPDF', 'moddate': '2004-12-18T16:15:31-06:00', 'total_pages': 637, 'page': 626}, page_content='Obesity. New York: Dell Publishing, 1992.\\nKubersky, Rachel. Everything You Need to Know about Eating\\nDisorders. New York: The Rosen Publishing Group, Inc.,\\n1992.\\nPERIODICALS\\nBerg, Frances M. “Eating Disorders Affect Both the Mind and\\nBody.”Healthy Weight Journal9, no. 2 (1995): 27-31.\\nKEY TERMS\\nBinge—To consume large amounts of food uncon-\\ntrollably within a short time period.\\nDiuretic—A drug that promotes the formation and\\nexcretion of urine.\\nNeurotransmitters —Certain brain chemicals that')]\n"
     ]
    }
   ],
   "source": [
    "while True:\n",
    "    query = input(\"Enter your question (or 'exit' to quit): \")\n",
    "    if query.lower() == 'exit':\n",
    "        break\n",
    "    response = qa.invoke(query)\n",
    "    print(\"Response:\", response['result'])\n",
    "    print(\"Source Documents:\", response['source_documents'])  # Display source documents if needed"
   ]
  }
 ],
 "metadata": {
  "kernelspec": {
   "display_name": "Python 3",
   "language": "python",
   "name": "python3"
  },
  "language_info": {
   "codemirror_mode": {
    "name": "ipython",
    "version": 3
   },
   "file_extension": ".py",
   "mimetype": "text/x-python",
   "name": "python",
   "nbconvert_exporter": "python",
   "pygments_lexer": "ipython3",
   "version": "3.11.9"
  }
 },
 "nbformat": 4,
 "nbformat_minor": 5
}
